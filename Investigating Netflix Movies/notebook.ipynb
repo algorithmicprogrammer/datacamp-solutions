{
 "cells": [
  {
   "source": "# Investigating Netflix Movies Project in DataCamp",
   "metadata": {},
   "id": "937acf3c-c077-4ca6-8d90-8f6dd4d13c54",
   "cell_type": "markdown"
  },
  {
   "source": [
    "\n",
    "\n",
    "## The data\n",
    "### **netflix_data.csv**\n",
    "| Column | Description |\n",
    "|--------|-------------|\n",
    "| `show_id` | The ID of the show |\n",
    "| `type` | Type of show |\n",
    "| `title` | Title of the show |\n",
    "| `director` | Director of the show |\n",
    "| `cast` | Cast of the show |\n",
    "| `country` | Country of origin |\n",
    "| `date_added` | Date added to Netflix |\n",
    "| `release_year` | Year of Netflix release |\n",
    "| `duration` | Duration of the show in minutes |\n",
    "| `description` | Description of the show |\n",
    "| `genre` | Show genre |"
   ],
   "metadata": {},
   "id": "5962b2cd-17bb-4ec9-b2d5-68537ca26860",
   "cell_type": "markdown"
  },
  {
   "source": "# Importing pandas and matplotlib\nimport pandas as pd\nimport matplotlib.pyplot as plt\n\n# Read in the Netflix CSV as a DataFrame\nnetflix_df = pd.read_csv(\"netflix_data.csv\")",
   "metadata": {
    "executionTime": 4087,
    "lastSuccessfullyExecutedCode": "# Importing pandas and matplotlib\nimport pandas as pd\nimport matplotlib.pyplot as plt\n\n# Read in the Netflix CSV as a DataFrame\nnetflix_df = pd.read_csv(\"netflix_data.csv\")",
    "executionCancelledAt": null,
    "lastExecutedAt": 1733866134244,
    "lastExecutedByKernel": "109b3caf-febd-4d22-bb78-3e98678c2852",
    "lastScheduledRunId": null
   },
   "id": "320a3abc-8a36-4b2b-baaf-473325363a4d",
   "cell_type": "code",
   "execution_count": 1,
   "outputs": []
  },
  {
   "metadata": {},
   "cell_type": "markdown",
   "source": [
    "## Pandas head() Method\n",
    "In pandas, the head() method is used to view the first few rows of a DataFrame or Series."
   ],
   "id": "d46d47abd0def02e"
  },
  {
   "source": "#Display first five rows\nnetflix_df.head(5)",
   "metadata": {
    "executionCancelledAt": null,
    "executionTime": 60,
    "lastExecutedAt": 1733866134306,
    "lastExecutedByKernel": "109b3caf-febd-4d22-bb78-3e98678c2852",
    "lastScheduledRunId": null,
    "lastSuccessfullyExecutedCode": "#Display first five rows\nnetflix_df.head(5)",
    "outputsMetadata": {
     "0": {
      "height": 188,
      "type": "dataFrame"
     }
    }
   },
   "id": "72658473-114f-49eb-bd4e-cc03c710834a",
   "cell_type": "code",
   "execution_count": 2,
   "outputs": [
    {
     "output_type": "execute_result",
     "data": {
      "application/com.datacamp.data-table.v2+json": {
       "table": {
        "schema": {
         "fields": [
          {
           "name": "index",
           "type": "integer"
          },
          {
           "name": "show_id",
           "type": "string"
          },
          {
           "name": "type",
           "type": "string"
          },
          {
           "name": "title",
           "type": "string"
          },
          {
           "name": "director",
           "type": "string"
          },
          {
           "name": "cast",
           "type": "string"
          },
          {
           "name": "country",
           "type": "string"
          },
          {
           "name": "date_added",
           "type": "string"
          },
          {
           "name": "release_year",
           "type": "integer"
          },
          {
           "name": "duration",
           "type": "integer"
          },
          {
           "name": "description",
           "type": "string"
          },
          {
           "name": "genre",
           "type": "string"
          }
         ],
         "primaryKey": [
          "index"
         ],
         "pandas_version": "1.4.0"
        },
        "data": {
         "index": [
          0,
          1,
          2,
          3,
          4
         ],
         "show_id": [
          "s2",
          "s3",
          "s4",
          "s5",
          "s6"
         ],
         "type": [
          "Movie",
          "Movie",
          "Movie",
          "Movie",
          "TV Show"
         ],
         "title": [
          "7:19",
          "23:59",
          "9",
          "21",
          "46"
         ],
         "director": [
          "Jorge Michel Grau",
          "Gilbert Chan",
          "Shane Acker",
          "Robert Luketic",
          "Serdar Akar"
         ],
         "cast": [
          "Demián Bichir, Héctor Bonilla, Oscar Serrano, Azalia Ortiz, Octavio Michel, Carmen Beato",
          "Tedd Chan, Stella Chung, Henley Hii, Lawrence Koh, Tommy Kuan, Josh Lai, Mark Lee, Susan Leong, Benjamin Lim",
          "Elijah Wood, John C. Reilly, Jennifer Connelly, Christopher Plummer, Crispin Glover, Martin Landau, Fred Tatasciore, Alan Oppenheimer, Tom Kane",
          "Jim Sturgess, Kevin Spacey, Kate Bosworth, Aaron Yoo, Liza Lapira, Jacob Pitts, Laurence Fishburne, Jack McGee, Josh Gad, Sam Golzari, Helen Carey, Jack Gilpin",
          "Erdal Beşikçioğlu, Yasemin Allen, Melis Birkan, Saygın Soysal, Berkan Şal, Metin Belgin, Ayça Eren, Selin Uludoğan, Özay Fecht, Suna Yıldızoğlu"
         ],
         "country": [
          "Mexico",
          "Singapore",
          "United States",
          "United States",
          "Turkey"
         ],
         "date_added": [
          "December 23, 2016",
          "December 20, 2018",
          "November 16, 2017",
          "January 1, 2020",
          "July 1, 2017"
         ],
         "release_year": [
          2016,
          2011,
          2009,
          2008,
          2016
         ],
         "duration": [
          93,
          78,
          80,
          123,
          1
         ],
         "description": [
          "After a devastating earthquake hits Mexico City, trapped survivors from all walks of life wait to be rescued while trying desperately to stay alive.",
          "When an army recruit is found dead, his fellow soldiers are forced to confront a terrifying secret that's haunting their jungle island training camp.",
          "In a postapocalyptic world, rag-doll robots hide in fear from dangerous machines out to exterminate them, until a brave newcomer joins the group.",
          "A brilliant group of students become card-counting experts with the intent of swindling millions out of Las Vegas casinos by playing blackjack.",
          "A genetics professor experiments with a treatment for his comatose sister that blends medical and shamanic cures, but unlocks a shocking side effect."
         ],
         "genre": [
          "Dramas",
          "Horror Movies",
          "Action",
          "Dramas",
          "International TV"
         ]
        }
       },
       "total_rows": 5,
       "truncation_type": null
      },
      "text/plain": "  show_id  ...             genre\n0      s2  ...            Dramas\n1      s3  ...     Horror Movies\n2      s4  ...            Action\n3      s5  ...            Dramas\n4      s6  ...  International TV\n\n[5 rows x 11 columns]",
      "text/html": "<div>\n<style scoped>\n    .dataframe tbody tr th:only-of-type {\n        vertical-align: middle;\n    }\n\n    .dataframe tbody tr th {\n        vertical-align: top;\n    }\n\n    .dataframe thead th {\n        text-align: right;\n    }\n</style>\n<table border=\"1\" class=\"dataframe\">\n  <thead>\n    <tr style=\"text-align: right;\">\n      <th></th>\n      <th>show_id</th>\n      <th>type</th>\n      <th>title</th>\n      <th>director</th>\n      <th>cast</th>\n      <th>country</th>\n      <th>date_added</th>\n      <th>release_year</th>\n      <th>duration</th>\n      <th>description</th>\n      <th>genre</th>\n    </tr>\n  </thead>\n  <tbody>\n    <tr>\n      <th>0</th>\n      <td>s2</td>\n      <td>Movie</td>\n      <td>7:19</td>\n      <td>Jorge Michel Grau</td>\n      <td>Demián Bichir, Héctor Bonilla, Oscar Serrano, ...</td>\n      <td>Mexico</td>\n      <td>December 23, 2016</td>\n      <td>2016</td>\n      <td>93</td>\n      <td>After a devastating earthquake hits Mexico Cit...</td>\n      <td>Dramas</td>\n    </tr>\n    <tr>\n      <th>1</th>\n      <td>s3</td>\n      <td>Movie</td>\n      <td>23:59</td>\n      <td>Gilbert Chan</td>\n      <td>Tedd Chan, Stella Chung, Henley Hii, Lawrence ...</td>\n      <td>Singapore</td>\n      <td>December 20, 2018</td>\n      <td>2011</td>\n      <td>78</td>\n      <td>When an army recruit is found dead, his fellow...</td>\n      <td>Horror Movies</td>\n    </tr>\n    <tr>\n      <th>2</th>\n      <td>s4</td>\n      <td>Movie</td>\n      <td>9</td>\n      <td>Shane Acker</td>\n      <td>Elijah Wood, John C. Reilly, Jennifer Connelly...</td>\n      <td>United States</td>\n      <td>November 16, 2017</td>\n      <td>2009</td>\n      <td>80</td>\n      <td>In a postapocalyptic world, rag-doll robots hi...</td>\n      <td>Action</td>\n    </tr>\n    <tr>\n      <th>3</th>\n      <td>s5</td>\n      <td>Movie</td>\n      <td>21</td>\n      <td>Robert Luketic</td>\n      <td>Jim Sturgess, Kevin Spacey, Kate Bosworth, Aar...</td>\n      <td>United States</td>\n      <td>January 1, 2020</td>\n      <td>2008</td>\n      <td>123</td>\n      <td>A brilliant group of students become card-coun...</td>\n      <td>Dramas</td>\n    </tr>\n    <tr>\n      <th>4</th>\n      <td>s6</td>\n      <td>TV Show</td>\n      <td>46</td>\n      <td>Serdar Akar</td>\n      <td>Erdal Beşikçioğlu, Yasemin Allen, Melis Birkan...</td>\n      <td>Turkey</td>\n      <td>July 1, 2017</td>\n      <td>2016</td>\n      <td>1</td>\n      <td>A genetics professor experiments with a treatm...</td>\n      <td>International TV</td>\n    </tr>\n  </tbody>\n</table>\n</div>"
     },
     "metadata": {},
     "execution_count": 2
    }
   ]
  },
  {
   "metadata": {},
   "cell_type": "markdown",
   "source": [
    "## Pandas DataFrame shape Property\n",
    "The shape property returns a tuple containing the number of rows and columns in the DataFrame.\n",
    "\n",
    "### Python Tuple\n",
    "Tuples are used to store multiple items in a single variable.\n",
    "Tuples are one of the four built-in data types in Python used to store collections of data.\n",
    "Tuples are ordered, unchangeable, and allow duplicate values."
   ],
   "id": "795b1a54ebb5aa4"
  },
  {
   "source": "#Dimensions of Dataset (rows, columns)\nnetflix_df.shape",
   "metadata": {
    "executionCancelledAt": null,
    "executionTime": 59,
    "lastExecutedAt": 1733866134365,
    "lastExecutedByKernel": "109b3caf-febd-4d22-bb78-3e98678c2852",
    "lastScheduledRunId": null,
    "lastSuccessfullyExecutedCode": "#Dimensions of Dataset (rows, columns)\nnetflix_df.shape"
   },
   "cell_type": "code",
   "id": "e6f94262-e325-400c-b6b1-aa04b22b5ad7",
   "outputs": [
    {
     "output_type": "execute_result",
     "data": {
      "text/plain": "(4812, 11)"
     },
     "metadata": {},
     "execution_count": 3
    }
   ],
   "execution_count": 3
  },
  {
   "metadata": {},
   "cell_type": "markdown",
   "source": [
    "## Pandas DataFrame dtypes Property\n",
    "The pandas DataFrame.dtypes attribute returns a series with the data type of each column.\n",
    "Columns with mixed types are stored with the object dtype.\n"
   ],
   "id": "2579768e95f48a1e"
  },
  {
   "source": "#Show the data type of existing columns\nnetflix_df.dtypes",
   "metadata": {
    "executionCancelledAt": null,
    "executionTime": 64,
    "lastExecutedAt": 1733866134429,
    "lastExecutedByKernel": "109b3caf-febd-4d22-bb78-3e98678c2852",
    "lastScheduledRunId": null,
    "lastSuccessfullyExecutedCode": "#Show the data type of existing columns\nnetflix_df.dtypes"
   },
   "cell_type": "code",
   "id": "32d2a45d-96b6-4083-80ce-e7dd03186aea",
   "outputs": [
    {
     "output_type": "execute_result",
     "data": {
      "text/plain": "show_id         object\ntype            object\ntitle           object\ndirector        object\ncast            object\ncountry         object\ndate_added      object\nrelease_year     int64\nduration         int64\ndescription     object\ngenre           object\ndtype: object"
     },
     "metadata": {},
     "execution_count": 4
    }
   ],
   "execution_count": 4
  },
  {
   "source": "#Provides a quick overview of dataframe by displaying the data types of each column, how many rows it has, and any missing values\nprint(netflix_df.info())",
   "metadata": {
    "executionCancelledAt": null,
    "executionTime": 56,
    "lastExecutedAt": 1733866134485,
    "lastExecutedByKernel": "109b3caf-febd-4d22-bb78-3e98678c2852",
    "lastScheduledRunId": null,
    "lastSuccessfullyExecutedCode": "#Provides a quick overview of dataframe by displaying the data types of each column, how many rows it has, and any missing values\nprint(netflix_df.info())",
    "outputsMetadata": {
     "0": {
      "height": 416,
      "type": "stream"
     }
    }
   },
   "cell_type": "code",
   "id": "0502c91b-c9df-4fbc-a872-3d731d241f20",
   "outputs": [
    {
     "output_type": "stream",
     "name": "stdout",
     "text": "<class 'pandas.core.frame.DataFrame'>\nRangeIndex: 4812 entries, 0 to 4811\nData columns (total 11 columns):\n #   Column        Non-Null Count  Dtype \n---  ------        --------------  ----- \n 0   show_id       4812 non-null   object\n 1   type          4812 non-null   object\n 2   title         4812 non-null   object\n 3   director      4812 non-null   object\n 4   cast          4812 non-null   object\n 5   country       4812 non-null   object\n 6   date_added    4812 non-null   object\n 7   release_year  4812 non-null   int64 \n 8   duration      4812 non-null   int64 \n 9   description   4812 non-null   object\n 10  genre         4812 non-null   object\ndtypes: int64(2), object(9)\nmemory usage: 413.7+ KB\nNone\n"
    }
   ],
   "execution_count": 5
  },
  {
   "source": "#Check duplicated rows\nduplicate_rows_netflix_df=netflix_df[netflix_df.duplicated()]\nprint(\"Number of duplicate rows:\", duplicate_rows_netflix_df.shape)",
   "metadata": {
    "executionCancelledAt": null,
    "executionTime": 48,
    "lastExecutedAt": 1733866134533,
    "lastExecutedByKernel": "109b3caf-febd-4d22-bb78-3e98678c2852",
    "lastScheduledRunId": null,
    "lastSuccessfullyExecutedCode": "#Check duplicated rows\nduplicate_rows_netflix_df=netflix_df[netflix_df.duplicated()]\nprint(\"Number of duplicate rows:\", duplicate_rows_netflix_df.shape)",
    "outputsMetadata": {
     "0": {
      "height": 38,
      "type": "stream"
     }
    }
   },
   "cell_type": "code",
   "id": "ec4102a5-3be7-4bad-9a8b-59159a3ffa09",
   "outputs": [
    {
     "output_type": "stream",
     "name": "stdout",
     "text": "Number of duplicate rows: (0, 11)\n"
    }
   ],
   "execution_count": 6
  },
  {
   "source": "#Check null values\nprint(netflix_df.isnull().sum())",
   "metadata": {
    "executionCancelledAt": null,
    "executionTime": 56,
    "lastExecutedAt": 1733866134589,
    "lastExecutedByKernel": "109b3caf-febd-4d22-bb78-3e98678c2852",
    "lastScheduledRunId": null,
    "lastSuccessfullyExecutedCode": "#Check null values\nprint(netflix_df.isnull().sum())",
    "outputsMetadata": {
     "0": {
      "height": 269,
      "type": "stream"
     }
    }
   },
   "cell_type": "code",
   "id": "35a45ab8-7a8d-4017-a4d8-0eb5bdc25132",
   "outputs": [
    {
     "output_type": "stream",
     "name": "stdout",
     "text": "show_id         0\ntype            0\ntitle           0\ndirector        0\ncast            0\ncountry         0\ndate_added      0\nrelease_year    0\nduration        0\ndescription     0\ngenre           0\ndtype: int64\n"
    }
   ],
   "execution_count": 7
  },
  {
   "source": "#Identify data patterns\nnetflix_df.describe()",
   "metadata": {
    "executionCancelledAt": null,
    "executionTime": 52,
    "lastExecutedAt": 1733866134641,
    "lastExecutedByKernel": "109b3caf-febd-4d22-bb78-3e98678c2852",
    "lastScheduledRunId": null,
    "lastSuccessfullyExecutedCode": "#Identify data patterns\nnetflix_df.describe()",
    "outputsMetadata": {
     "0": {
      "height": 257,
      "type": "dataFrame"
     }
    }
   },
   "cell_type": "code",
   "id": "243cc246-e06e-429c-b939-5691c65cdb86",
   "outputs": [
    {
     "output_type": "execute_result",
     "data": {
      "application/com.datacamp.data-table.v2+json": {
       "table": {
        "schema": {
         "fields": [
          {
           "name": "index",
           "type": "string"
          },
          {
           "name": "release_year",
           "type": "number"
          },
          {
           "name": "duration",
           "type": "number"
          }
         ],
         "primaryKey": [
          "index"
         ],
         "pandas_version": "1.4.0"
        },
        "data": {
         "index": [
          "count",
          "mean",
          "std",
          "min",
          "25%",
          "50%",
          "75%",
          "max"
         ],
         "release_year": [
          4812,
          2012.7115544472,
          9.5179777992,
          1942,
          2011,
          2016,
          2018,
          2021
         ],
         "duration": [
          4812,
          99.5667082294,
          30.8893048709,
          1,
          88,
          99,
          116,
          253
         ]
        }
       },
       "total_rows": 8,
       "truncation_type": null
      },
      "text/plain": "       release_year     duration\ncount   4812.000000  4812.000000\nmean    2012.711554    99.566708\nstd        9.517978    30.889305\nmin     1942.000000     1.000000\n25%     2011.000000    88.000000\n50%     2016.000000    99.000000\n75%     2018.000000   116.000000\nmax     2021.000000   253.000000",
      "text/html": "<div>\n<style scoped>\n    .dataframe tbody tr th:only-of-type {\n        vertical-align: middle;\n    }\n\n    .dataframe tbody tr th {\n        vertical-align: top;\n    }\n\n    .dataframe thead th {\n        text-align: right;\n    }\n</style>\n<table border=\"1\" class=\"dataframe\">\n  <thead>\n    <tr style=\"text-align: right;\">\n      <th></th>\n      <th>release_year</th>\n      <th>duration</th>\n    </tr>\n  </thead>\n  <tbody>\n    <tr>\n      <th>count</th>\n      <td>4812.000000</td>\n      <td>4812.000000</td>\n    </tr>\n    <tr>\n      <th>mean</th>\n      <td>2012.711554</td>\n      <td>99.566708</td>\n    </tr>\n    <tr>\n      <th>std</th>\n      <td>9.517978</td>\n      <td>30.889305</td>\n    </tr>\n    <tr>\n      <th>min</th>\n      <td>1942.000000</td>\n      <td>1.000000</td>\n    </tr>\n    <tr>\n      <th>25%</th>\n      <td>2011.000000</td>\n      <td>88.000000</td>\n    </tr>\n    <tr>\n      <th>50%</th>\n      <td>2016.000000</td>\n      <td>99.000000</td>\n    </tr>\n    <tr>\n      <th>75%</th>\n      <td>2018.000000</td>\n      <td>116.000000</td>\n    </tr>\n    <tr>\n      <th>max</th>\n      <td>2021.000000</td>\n      <td>253.000000</td>\n    </tr>\n  </tbody>\n</table>\n</div>"
     },
     "metadata": {},
     "execution_count": 8
    }
   ],
   "execution_count": 8
  },
  {
   "source": "#Data counts per type\nprint(netflix_df.value_counts('type'))",
   "metadata": {
    "executionCancelledAt": null,
    "executionTime": 52,
    "lastExecutedAt": 1733866134693,
    "lastExecutedByKernel": "109b3caf-febd-4d22-bb78-3e98678c2852",
    "lastScheduledRunId": null,
    "lastSuccessfullyExecutedCode": "#Data counts per type\nprint(netflix_df.value_counts('type'))",
    "outputsMetadata": {
     "0": {
      "height": 101,
      "type": "stream"
     }
    }
   },
   "cell_type": "code",
   "id": "a10afa78-7933-477d-901e-494926929412",
   "outputs": [
    {
     "output_type": "stream",
     "name": "stdout",
     "text": "type\nMovie      4677\nTV Show     135\ndtype: int64\n"
    }
   ],
   "execution_count": 9
  },
  {
   "source": "#Count movies\nnetflix_df_subset=netflix_df[netflix_df[\"type\"]==\"Movie\"]\nprint(netflix_df_subset.value_counts('type'))",
   "metadata": {
    "executionCancelledAt": null,
    "executionTime": 48,
    "lastExecutedAt": 1733866134741,
    "lastExecutedByKernel": "109b3caf-febd-4d22-bb78-3e98678c2852",
    "lastScheduledRunId": null,
    "lastSuccessfullyExecutedCode": "#Count movies\nnetflix_df_subset=netflix_df[netflix_df[\"type\"]==\"Movie\"]\nprint(netflix_df_subset.value_counts('type'))",
    "outputsMetadata": {
     "0": {
      "height": 80,
      "type": "stream"
     }
    }
   },
   "cell_type": "code",
   "id": "6cfec176-963f-473f-8e5a-3f345ec6d774",
   "outputs": [
    {
     "output_type": "stream",
     "name": "stdout",
     "text": "type\nMovie    4677\ndtype: int64\n"
    }
   ],
   "execution_count": 10
  },
  {
   "source": "#Create a pandas dataframe which is Netflix \"movie\" films released between 1990 to 1999\nnew_netflix_df=netflix_df[(netflix_df['release_year']>=1990) & (netflix_df['release_year']<2000) & (netflix_df['type']=='Movie')]\nprint(new_netflix_df.value_counts('type'))",
   "metadata": {
    "executionCancelledAt": null,
    "executionTime": 52,
    "lastExecutedAt": 1733866134793,
    "lastExecutedByKernel": "109b3caf-febd-4d22-bb78-3e98678c2852",
    "lastScheduledRunId": null,
    "lastSuccessfullyExecutedCode": "#Create a pandas dataframe which is Netflix \"movie\" films released between 1990 to 1999\nnew_netflix_df=netflix_df[(netflix_df['release_year']>=1990) & (netflix_df['release_year']<2000) & (netflix_df['type']=='Movie')]\nprint(new_netflix_df.value_counts('type'))",
    "outputsMetadata": {
     "0": {
      "height": 80,
      "type": "stream"
     }
    }
   },
   "cell_type": "code",
   "id": "a55edc55-7570-40c5-867d-3d12893eaf5f",
   "outputs": [
    {
     "output_type": "stream",
     "name": "stdout",
     "text": "type\nMovie    183\ndtype: int64\n"
    }
   ],
   "execution_count": 11
  },
  {
   "source": "#Modify dataframe with chosen columns display\nkeep = ['title', 'country', 'genre', 'release_year', 'duration']\nnetflix_movies = new_netflix_df[keep]\nprint(netflix_movies)",
   "metadata": {
    "executionCancelledAt": null,
    "executionTime": 57,
    "lastExecutedAt": 1733866134850,
    "lastExecutedByKernel": "109b3caf-febd-4d22-bb78-3e98678c2852",
    "lastScheduledRunId": null,
    "lastSuccessfullyExecutedCode": "#Modify dataframe with chosen columns display\nkeep = ['title', 'country', 'genre', 'release_year', 'duration']\nnetflix_movies = new_netflix_df[keep]\nprint(netflix_movies)",
    "outputsMetadata": {
     "0": {
      "height": 311,
      "type": "stream"
     }
    }
   },
   "cell_type": "code",
   "id": "21802530-c976-4b9d-b9d9-6f03bae53e4d",
   "outputs": [
    {
     "output_type": "stream",
     "name": "stdout",
     "text": "                                title        country  ... release_year  duration\n6                                 187  United States  ...         1997       119\n118                 A Dangerous Woman  United States  ...         1993       101\n145            A Night at the Roxbury  United States  ...         1998        82\n167   A Thin Line Between Love & Hate  United States  ...         1996       108\n194                      Aashik Awara          India  ...         1993       154\n...                               ...            ...  ...          ...       ...\n4672                      West Beirut         France  ...         1999       106\n4689      What's Eating Gilbert Grape  United States  ...         1993       118\n4718                   Wild Wild West  United States  ...         1999       106\n4746                       Wyatt Earp  United States  ...         1994       191\n4756                      Yaar Gaddar          India  ...         1994       148\n\n[183 rows x 5 columns]\n"
    }
   ],
   "execution_count": 12
  },
  {
   "source": "#Plot histogram to visualize the data according to number of movies and duration\nplt.hist(netflix_movies['duration'])",
   "metadata": {},
   "cell_type": "code",
   "id": "ebddd0dd-7eb4-4007-aeaa-3f29246f945d",
   "outputs": [],
   "execution_count": null
  }
 ],
 "metadata": {
  "colab": {
   "name": "Welcome to DataCamp Workspaces.ipynb",
   "provenance": []
  },
  "kernelspec": {
   "display_name": "Python 3 (ipykernel)",
   "language": "python",
   "name": "python3"
  },
  "language_info": {
   "name": "python",
   "version": "3.8.10",
   "mimetype": "text/x-python",
   "codemirror_mode": {
    "name": "ipython",
    "version": 3
   },
   "pygments_lexer": "ipython3",
   "nbconvert_exporter": "python",
   "file_extension": ".py"
  },
  "editor": "DataLab"
 },
 "nbformat": 4,
 "nbformat_minor": 5
}
